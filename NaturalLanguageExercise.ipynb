{
  "nbformat": 4,
  "nbformat_minor": 0,
  "metadata": {
    "colab": {
      "name": "BorjaExercise.ipynb",
      "provenance": [],
      "collapsed_sections": [],
      "authorship_tag": "ABX9TyMZTbruhmhNUodB3z5PhM2h",
      "include_colab_link": true
    },
    "kernelspec": {
      "name": "python3",
      "display_name": "Python 3"
    },
    "accelerator": "GPU"
  },
  "cells": [
    {
      "cell_type": "markdown",
      "metadata": {
        "id": "view-in-github",
        "colab_type": "text"
      },
      "source": [
        "<a href=\"https://colab.research.google.com/github/geophase/Machine-Learning-on-Classical-and-Quantum-Data-Photonics-MSc-/blob/main/NaturalLanguageExercise.ipynb\" target=\"_parent\"><img src=\"https://colab.research.google.com/assets/colab-badge.svg\" alt=\"Open In Colab\"/></a>"
      ]
    },
    {
      "cell_type": "code",
      "metadata": {
        "id": "4RxOJRz6Sj9L",
        "colab": {
          "base_uri": "https://localhost:8080/"
        },
        "outputId": "568dcc5e-2198-4130-8b51-b56cdf4a0dcf"
      },
      "source": [
        "!pip install -Uqq fastbook\n",
        "import fastbook\n",
        "fastbook.setup_book()"
      ],
      "execution_count": null,
      "outputs": [
        {
          "output_type": "stream",
          "text": [
            "\u001b[?25l\r\u001b[K     |▌                               | 10kB 11.8MB/s eta 0:00:01\r\u001b[K     |█                               | 20kB 16.6MB/s eta 0:00:01\r\u001b[K     |█▍                              | 30kB 20.6MB/s eta 0:00:01\r\u001b[K     |█▉                              | 40kB 23.2MB/s eta 0:00:01\r\u001b[K     |██▎                             | 51kB 24.5MB/s eta 0:00:01\r\u001b[K     |██▊                             | 61kB 16.8MB/s eta 0:00:01\r\u001b[K     |███▏                            | 71kB 17.1MB/s eta 0:00:01\r\u001b[K     |███▋                            | 81kB 16.7MB/s eta 0:00:01\r\u001b[K     |████                            | 92kB 16.6MB/s eta 0:00:01\r\u001b[K     |████▌                           | 102kB 16.6MB/s eta 0:00:01\r\u001b[K     |█████                           | 112kB 16.6MB/s eta 0:00:01\r\u001b[K     |█████▌                          | 122kB 16.6MB/s eta 0:00:01\r\u001b[K     |██████                          | 133kB 16.6MB/s eta 0:00:01\r\u001b[K     |██████▍                         | 143kB 16.6MB/s eta 0:00:01\r\u001b[K     |██████▉                         | 153kB 16.6MB/s eta 0:00:01\r\u001b[K     |███████▎                        | 163kB 16.6MB/s eta 0:00:01\r\u001b[K     |███████▊                        | 174kB 16.6MB/s eta 0:00:01\r\u001b[K     |████████▏                       | 184kB 16.6MB/s eta 0:00:01\r\u001b[K     |████████▋                       | 194kB 16.6MB/s eta 0:00:01\r\u001b[K     |█████████                       | 204kB 16.6MB/s eta 0:00:01\r\u001b[K     |█████████▋                      | 215kB 16.6MB/s eta 0:00:01\r\u001b[K     |██████████                      | 225kB 16.6MB/s eta 0:00:01\r\u001b[K     |██████████▌                     | 235kB 16.6MB/s eta 0:00:01\r\u001b[K     |███████████                     | 245kB 16.6MB/s eta 0:00:01\r\u001b[K     |███████████▍                    | 256kB 16.6MB/s eta 0:00:01\r\u001b[K     |███████████▉                    | 266kB 16.6MB/s eta 0:00:01\r\u001b[K     |████████████▎                   | 276kB 16.6MB/s eta 0:00:01\r\u001b[K     |████████████▊                   | 286kB 16.6MB/s eta 0:00:01\r\u001b[K     |█████████████▏                  | 296kB 16.6MB/s eta 0:00:01\r\u001b[K     |█████████████▋                  | 307kB 16.6MB/s eta 0:00:01\r\u001b[K     |██████████████                  | 317kB 16.6MB/s eta 0:00:01\r\u001b[K     |██████████████▋                 | 327kB 16.6MB/s eta 0:00:01\r\u001b[K     |███████████████                 | 337kB 16.6MB/s eta 0:00:01\r\u001b[K     |███████████████▌                | 348kB 16.6MB/s eta 0:00:01\r\u001b[K     |████████████████                | 358kB 16.6MB/s eta 0:00:01\r\u001b[K     |████████████████▍               | 368kB 16.6MB/s eta 0:00:01\r\u001b[K     |████████████████▉               | 378kB 16.6MB/s eta 0:00:01\r\u001b[K     |█████████████████▎              | 389kB 16.6MB/s eta 0:00:01\r\u001b[K     |█████████████████▊              | 399kB 16.6MB/s eta 0:00:01\r\u001b[K     |██████████████████▏             | 409kB 16.6MB/s eta 0:00:01\r\u001b[K     |██████████████████▋             | 419kB 16.6MB/s eta 0:00:01\r\u001b[K     |███████████████████▏            | 430kB 16.6MB/s eta 0:00:01\r\u001b[K     |███████████████████▋            | 440kB 16.6MB/s eta 0:00:01\r\u001b[K     |████████████████████            | 450kB 16.6MB/s eta 0:00:01\r\u001b[K     |████████████████████▌           | 460kB 16.6MB/s eta 0:00:01\r\u001b[K     |█████████████████████           | 471kB 16.6MB/s eta 0:00:01\r\u001b[K     |█████████████████████▍          | 481kB 16.6MB/s eta 0:00:01\r\u001b[K     |█████████████████████▉          | 491kB 16.6MB/s eta 0:00:01\r\u001b[K     |██████████████████████▎         | 501kB 16.6MB/s eta 0:00:01\r\u001b[K     |██████████████████████▊         | 512kB 16.6MB/s eta 0:00:01\r\u001b[K     |███████████████████████▏        | 522kB 16.6MB/s eta 0:00:01\r\u001b[K     |███████████████████████▋        | 532kB 16.6MB/s eta 0:00:01\r\u001b[K     |████████████████████████▏       | 542kB 16.6MB/s eta 0:00:01\r\u001b[K     |████████████████████████▋       | 552kB 16.6MB/s eta 0:00:01\r\u001b[K     |█████████████████████████       | 563kB 16.6MB/s eta 0:00:01\r\u001b[K     |█████████████████████████▌      | 573kB 16.6MB/s eta 0:00:01\r\u001b[K     |██████████████████████████      | 583kB 16.6MB/s eta 0:00:01\r\u001b[K     |██████████████████████████▍     | 593kB 16.6MB/s eta 0:00:01\r\u001b[K     |██████████████████████████▉     | 604kB 16.6MB/s eta 0:00:01\r\u001b[K     |███████████████████████████▎    | 614kB 16.6MB/s eta 0:00:01\r\u001b[K     |███████████████████████████▊    | 624kB 16.6MB/s eta 0:00:01\r\u001b[K     |████████████████████████████▏   | 634kB 16.6MB/s eta 0:00:01\r\u001b[K     |████████████████████████████▊   | 645kB 16.6MB/s eta 0:00:01\r\u001b[K     |█████████████████████████████▏  | 655kB 16.6MB/s eta 0:00:01\r\u001b[K     |█████████████████████████████▋  | 665kB 16.6MB/s eta 0:00:01\r\u001b[K     |██████████████████████████████  | 675kB 16.6MB/s eta 0:00:01\r\u001b[K     |██████████████████████████████▌ | 686kB 16.6MB/s eta 0:00:01\r\u001b[K     |███████████████████████████████ | 696kB 16.6MB/s eta 0:00:01\r\u001b[K     |███████████████████████████████▍| 706kB 16.6MB/s eta 0:00:01\r\u001b[K     |███████████████████████████████▉| 716kB 16.6MB/s eta 0:00:01\r\u001b[K     |████████████████████████████████| 727kB 16.6MB/s \n",
            "\u001b[K     |████████████████████████████████| 51kB 7.4MB/s \n",
            "\u001b[K     |████████████████████████████████| 194kB 24.0MB/s \n",
            "\u001b[K     |████████████████████████████████| 1.1MB 53.3MB/s \n",
            "\u001b[K     |████████████████████████████████| 61kB 10.4MB/s \n",
            "\u001b[?25hMounted at /content/gdrive\n"
          ],
          "name": "stdout"
        }
      ]
    },
    {
      "cell_type": "code",
      "metadata": {
        "id": "ZLVQSAGtVKYv"
      },
      "source": [
        "from fastai.text.all import *"
      ],
      "execution_count": null,
      "outputs": []
    },
    {
      "cell_type": "markdown",
      "metadata": {
        "id": "LX37cftXWjh_"
      },
      "source": [
        " **Import data sets**\n"
      ]
    },
    {
      "cell_type": "code",
      "metadata": {
        "colab": {
          "base_uri": "https://localhost:8080/",
          "height": 17
        },
        "id": "Wsqs2BUBUmQi",
        "outputId": "056f8ef8-d17d-44b4-fd91-ac2ffc8f6208"
      },
      "source": [
        "path = untar_data(URLs.IMDB_SAMPLE);\n",
        "\n",
        "\n",
        "dls_lm_IMDB =  DataBlock(blocks=TextBlock.from_df('text', is_lm=True),\n",
        "                   get_x=ColReader('text'), splitter=RandomSplitter(0.1)\n",
        "                   ).dataloaders(pd.read_csv(path/'texts.csv'), bs=128)"
      ],
      "execution_count": null,
      "outputs": [
        {
          "output_type": "display_data",
          "data": {
            "text/html": [
              ""
            ],
            "text/plain": [
              "<IPython.core.display.HTML object>"
            ]
          },
          "metadata": {
            "tags": []
          }
        },
        {
          "output_type": "display_data",
          "data": {
            "text/html": [
              ""
            ],
            "text/plain": [
              "<IPython.core.display.HTML object>"
            ]
          },
          "metadata": {
            "tags": []
          }
        }
      ]
    },
    {
      "cell_type": "code",
      "metadata": {
        "colab": {
          "base_uri": "https://localhost:8080/",
          "height": 17
        },
        "id": "zwadTzkpW_DM",
        "outputId": "3f80a550-38fd-4a88-8a7a-08b3ed180009"
      },
      "source": [
        "path_AMZN = untar_data(URLs.AMAZON_REVIEWS)\n",
        "\n",
        "samples = 5000\n",
        "a_df = pd.read_csv(path_AMZN/\"train.csv\", names=[\"label\", \"title\", \"text\"]).sample(samples).reset_index()\n",
        "dls_lm_AMZN = DataBlock(blocks=TextBlock.from_df('text', is_lm=True),\n",
        "                   get_x=ColReader('text'), splitter=RandomSplitter(0.1)\n",
        "                   ).dataloaders(a_df, bs=128)"
      ],
      "execution_count": null,
      "outputs": [
        {
          "output_type": "display_data",
          "data": {
            "text/html": [
              ""
            ],
            "text/plain": [
              "<IPython.core.display.HTML object>"
            ]
          },
          "metadata": {
            "tags": []
          }
        }
      ]
    },
    {
      "cell_type": "markdown",
      "metadata": {
        "id": "oG-SOK2cW6IA"
      },
      "source": [
        "**Taking a look to the data**"
      ]
    },
    {
      "cell_type": "code",
      "metadata": {
        "colab": {
          "base_uri": "https://localhost:8080/",
          "height": 295
        },
        "id": "5rfMVnMAVg0y",
        "outputId": "dda30d96-36eb-41ea-c5bf-dcecca584b74"
      },
      "source": [
        "dls_lm_IMDB.show_batch(max_n=3)"
      ],
      "execution_count": null,
      "outputs": [
        {
          "output_type": "display_data",
          "data": {
            "text/html": [
              "<table border=\"1\" class=\"dataframe\">\n",
              "  <thead>\n",
              "    <tr style=\"text-align: right;\">\n",
              "      <th></th>\n",
              "      <th>text</th>\n",
              "      <th>text_</th>\n",
              "    </tr>\n",
              "  </thead>\n",
              "  <tbody>\n",
              "    <tr>\n",
              "      <th>0</th>\n",
              "      <td>xxbos i watched xxmaj grendel the other night and am compelled to put together a xxmaj public xxmaj service xxmaj announcement . \\n\\n xxmaj grendel is another version of xxmaj beowulf , the thousand - year - old xxunk - saxon epic poem . xxmaj the scifi channel has a growing catalog of xxunk and uninteresting movies , and the previews promised an xxunk low - budget mini - epic , but</td>\n",
              "      <td>i watched xxmaj grendel the other night and am compelled to put together a xxmaj public xxmaj service xxmaj announcement . \\n\\n xxmaj grendel is another version of xxmaj beowulf , the thousand - year - old xxunk - saxon epic poem . xxmaj the scifi channel has a growing catalog of xxunk and uninteresting movies , and the previews promised an xxunk low - budget mini - epic , but this</td>\n",
              "    </tr>\n",
              "    <tr>\n",
              "      <th>1</th>\n",
              "      <td>xxunk in progress . xxmaj he is ordered by his xxunk to fire on them , xxunk to gets him knocked out and thrown in prison , in the meantime they xxunk the people without his help . xxmaj the government blames xxmaj richards for the massacre xxunk him the name \" butcher of xxmaj xxunk \" . xxmaj xxunk months later xxmaj richards along with two friends xxmaj william xxmaj laughlin</td>\n",
              "      <td>in progress . xxmaj he is ordered by his xxunk to fire on them , xxunk to gets him knocked out and thrown in prison , in the meantime they xxunk the people without his help . xxmaj the government blames xxmaj richards for the massacre xxunk him the name \" butcher of xxmaj xxunk \" . xxmaj xxunk months later xxmaj richards along with two friends xxmaj william xxmaj laughlin (</td>\n",
              "    </tr>\n",
              "    <tr>\n",
              "      <th>2</th>\n",
              "      <td>self - xxunk and open - xxunk here . xxbos i could n't wait to get my hands on this one , when i read about xxmaj fred xxmaj astaire xxunk up with xxmaj george xxmaj burns &amp; xxmaj gracie xxmaj allen in a movie with a script by xxup xxunk . xxmaj xxunk and music by the xxmaj xxunk . xxmaj it is definitely worth seeing , but lacks the xxunk</td>\n",
              "      <td>- xxunk and open - xxunk here . xxbos i could n't wait to get my hands on this one , when i read about xxmaj fred xxmaj astaire xxunk up with xxmaj george xxmaj burns &amp; xxmaj gracie xxmaj allen in a movie with a script by xxup xxunk . xxmaj xxunk and music by the xxmaj xxunk . xxmaj it is definitely worth seeing , but lacks the xxunk quality</td>\n",
              "    </tr>\n",
              "  </tbody>\n",
              "</table>"
            ],
            "text/plain": [
              "<IPython.core.display.HTML object>"
            ]
          },
          "metadata": {
            "tags": []
          }
        }
      ]
    },
    {
      "cell_type": "code",
      "metadata": {
        "colab": {
          "base_uri": "https://localhost:8080/",
          "height": 295
        },
        "id": "s9dRba-gX6u9",
        "outputId": "c603d623-32a6-4766-9c9c-175a97f9c1eb"
      },
      "source": [
        "dls_lm_AMZN.show_batch(max_n=3)"
      ],
      "execution_count": null,
      "outputs": [
        {
          "output_type": "display_data",
          "data": {
            "text/html": [
              "<table border=\"1\" class=\"dataframe\">\n",
              "  <thead>\n",
              "    <tr style=\"text-align: right;\">\n",
              "      <th></th>\n",
              "      <th>text</th>\n",
              "      <th>text_</th>\n",
              "    </tr>\n",
              "  </thead>\n",
              "  <tbody>\n",
              "    <tr>\n",
              "      <th>0</th>\n",
              "      <td>xxbos xxmaj this item works as described . xxmaj it breaks up a little on movement and sound quality is not the best in the world compared to my xxup hd xxunk 's but they do serve a purpose and allow you to listen to whatever xxunk . xxmaj if you need to listen to something why you move around / outside the house this serves that purpose . xxmaj if you</td>\n",
              "      <td>xxmaj this item works as described . xxmaj it breaks up a little on movement and sound quality is not the best in the world compared to my xxup hd xxunk 's but they do serve a purpose and allow you to listen to whatever xxunk . xxmaj if you need to listen to something why you move around / outside the house this serves that purpose . xxmaj if you want</td>\n",
              "    </tr>\n",
              "    <tr>\n",
              "      <th>1</th>\n",
              "      <td>really have anything to do with xxmaj nicolae in the last part of the book . i got tired of the others in their after the xxmaj rapture events . xxmaj we already knew what xxmaj buck , xxmaj xxunk and xxmaj raymond did . xxmaj just wish these would have been put into one book . xxbos xxup add does not end with xxunk . xxmaj for millions of adults throughout</td>\n",
              "      <td>have anything to do with xxmaj nicolae in the last part of the book . i got tired of the others in their after the xxmaj rapture events . xxmaj we already knew what xxmaj buck , xxmaj xxunk and xxmaj raymond did . xxmaj just wish these would have been put into one book . xxbos xxup add does not end with xxunk . xxmaj for millions of adults throughout the</td>\n",
              "    </tr>\n",
              "    <tr>\n",
              "      <th>2</th>\n",
              "      <td>ac / xxup dc albums go . xxmaj for a start it is one of the hardest sounding albums the band has ever come up with . xxmaj it has many highlights , including one of the bands best songs in xxup sin xxup city . xxmaj the guitar section in the middle of this track is incredible . xxmaj other great tracks are xxup rock ' n ' xxup roll xxup</td>\n",
              "      <td>/ xxup dc albums go . xxmaj for a start it is one of the hardest sounding albums the band has ever come up with . xxmaj it has many highlights , including one of the bands best songs in xxup sin xxup city . xxmaj the guitar section in the middle of this track is incredible . xxmaj other great tracks are xxup rock ' n ' xxup roll xxup xxunk</td>\n",
              "    </tr>\n",
              "  </tbody>\n",
              "</table>"
            ],
            "text/plain": [
              "<IPython.core.display.HTML object>"
            ]
          },
          "metadata": {
            "tags": []
          }
        }
      ]
    },
    {
      "cell_type": "markdown",
      "metadata": {
        "id": "xCNBDi__X6Ai"
      },
      "source": [
        "**Training the models**\n"
      ]
    },
    {
      "cell_type": "code",
      "metadata": {
        "id": "_XpvfKRSViQ-"
      },
      "source": [
        "imdb_learn = language_model_learner(dls_lm_IMDB, AWD_LSTM, drop_mult=1, metrics=[accuracy, Perplexity()]).to_fp16()"
      ],
      "execution_count": null,
      "outputs": []
    },
    {
      "cell_type": "code",
      "metadata": {
        "colab": {
          "base_uri": "https://localhost:8080/",
          "height": 236
        },
        "id": "ZDNylKMFVifg",
        "outputId": "4e8a7791-6978-4064-bcc3-d19a5ba61461"
      },
      "source": [
        "imdb_learn.fine_tune(4, base_lr=2e-2)"
      ],
      "execution_count": null,
      "outputs": [
        {
          "output_type": "display_data",
          "data": {
            "text/html": [
              "<table border=\"1\" class=\"dataframe\">\n",
              "  <thead>\n",
              "    <tr style=\"text-align: left;\">\n",
              "      <th>epoch</th>\n",
              "      <th>train_loss</th>\n",
              "      <th>valid_loss</th>\n",
              "      <th>accuracy</th>\n",
              "      <th>perplexity</th>\n",
              "      <th>time</th>\n",
              "    </tr>\n",
              "  </thead>\n",
              "  <tbody>\n",
              "    <tr>\n",
              "      <td>0</td>\n",
              "      <td>4.623479</td>\n",
              "      <td>4.083950</td>\n",
              "      <td>0.268986</td>\n",
              "      <td>59.379559</td>\n",
              "      <td>00:07</td>\n",
              "    </tr>\n",
              "  </tbody>\n",
              "</table>"
            ],
            "text/plain": [
              "<IPython.core.display.HTML object>"
            ]
          },
          "metadata": {
            "tags": []
          }
        },
        {
          "output_type": "display_data",
          "data": {
            "text/html": [
              "<table border=\"1\" class=\"dataframe\">\n",
              "  <thead>\n",
              "    <tr style=\"text-align: left;\">\n",
              "      <th>epoch</th>\n",
              "      <th>train_loss</th>\n",
              "      <th>valid_loss</th>\n",
              "      <th>accuracy</th>\n",
              "      <th>perplexity</th>\n",
              "      <th>time</th>\n",
              "    </tr>\n",
              "  </thead>\n",
              "  <tbody>\n",
              "    <tr>\n",
              "      <td>0</td>\n",
              "      <td>4.187617</td>\n",
              "      <td>3.981505</td>\n",
              "      <td>0.277829</td>\n",
              "      <td>53.597660</td>\n",
              "      <td>00:08</td>\n",
              "    </tr>\n",
              "    <tr>\n",
              "      <td>1</td>\n",
              "      <td>4.101351</td>\n",
              "      <td>3.951252</td>\n",
              "      <td>0.275660</td>\n",
              "      <td>52.000443</td>\n",
              "      <td>00:08</td>\n",
              "    </tr>\n",
              "    <tr>\n",
              "      <td>2</td>\n",
              "      <td>3.984833</td>\n",
              "      <td>3.937964</td>\n",
              "      <td>0.280504</td>\n",
              "      <td>51.314018</td>\n",
              "      <td>00:08</td>\n",
              "    </tr>\n",
              "    <tr>\n",
              "      <td>3</td>\n",
              "      <td>3.868586</td>\n",
              "      <td>3.934723</td>\n",
              "      <td>0.280686</td>\n",
              "      <td>51.147976</td>\n",
              "      <td>00:08</td>\n",
              "    </tr>\n",
              "  </tbody>\n",
              "</table>"
            ],
            "text/plain": [
              "<IPython.core.display.HTML object>"
            ]
          },
          "metadata": {
            "tags": []
          }
        }
      ]
    },
    {
      "cell_type": "code",
      "metadata": {
        "id": "u7CKE8vgWSbZ"
      },
      "source": [
        "amzn_learn = language_model_learner(dls_lm_AMZN, AWD_LSTM, drop_mult=1, metrics=[accuracy, Perplexity()]).to_fp16()\n"
      ],
      "execution_count": null,
      "outputs": []
    },
    {
      "cell_type": "code",
      "metadata": {
        "colab": {
          "base_uri": "https://localhost:8080/",
          "height": 236
        },
        "id": "wXPgYdQIWSld",
        "outputId": "c0719d80-418f-4800-b4c2-0ba6c8fc3a4f"
      },
      "source": [
        "amzn_learn.fine_tune(4, base_lr=2e-2)\n"
      ],
      "execution_count": null,
      "outputs": [
        {
          "output_type": "display_data",
          "data": {
            "text/html": [
              "<table border=\"1\" class=\"dataframe\">\n",
              "  <thead>\n",
              "    <tr style=\"text-align: left;\">\n",
              "      <th>epoch</th>\n",
              "      <th>train_loss</th>\n",
              "      <th>valid_loss</th>\n",
              "      <th>accuracy</th>\n",
              "      <th>perplexity</th>\n",
              "      <th>time</th>\n",
              "    </tr>\n",
              "  </thead>\n",
              "  <tbody>\n",
              "    <tr>\n",
              "      <td>0</td>\n",
              "      <td>4.662416</td>\n",
              "      <td>4.066043</td>\n",
              "      <td>0.252326</td>\n",
              "      <td>58.325706</td>\n",
              "      <td>00:14</td>\n",
              "    </tr>\n",
              "  </tbody>\n",
              "</table>"
            ],
            "text/plain": [
              "<IPython.core.display.HTML object>"
            ]
          },
          "metadata": {
            "tags": []
          }
        },
        {
          "output_type": "display_data",
          "data": {
            "text/html": [
              "<table border=\"1\" class=\"dataframe\">\n",
              "  <thead>\n",
              "    <tr style=\"text-align: left;\">\n",
              "      <th>epoch</th>\n",
              "      <th>train_loss</th>\n",
              "      <th>valid_loss</th>\n",
              "      <th>accuracy</th>\n",
              "      <th>perplexity</th>\n",
              "      <th>time</th>\n",
              "    </tr>\n",
              "  </thead>\n",
              "  <tbody>\n",
              "    <tr>\n",
              "      <td>0</td>\n",
              "      <td>4.221687</td>\n",
              "      <td>3.948339</td>\n",
              "      <td>0.267943</td>\n",
              "      <td>51.849197</td>\n",
              "      <td>00:15</td>\n",
              "    </tr>\n",
              "    <tr>\n",
              "      <td>1</td>\n",
              "      <td>4.113304</td>\n",
              "      <td>3.901574</td>\n",
              "      <td>0.274986</td>\n",
              "      <td>49.480263</td>\n",
              "      <td>00:15</td>\n",
              "    </tr>\n",
              "    <tr>\n",
              "      <td>2</td>\n",
              "      <td>3.975133</td>\n",
              "      <td>3.874398</td>\n",
              "      <td>0.275720</td>\n",
              "      <td>48.153679</td>\n",
              "      <td>00:15</td>\n",
              "    </tr>\n",
              "    <tr>\n",
              "      <td>3</td>\n",
              "      <td>3.861132</td>\n",
              "      <td>3.870335</td>\n",
              "      <td>0.276855</td>\n",
              "      <td>47.958466</td>\n",
              "      <td>00:15</td>\n",
              "    </tr>\n",
              "  </tbody>\n",
              "</table>"
            ],
            "text/plain": [
              "<IPython.core.display.HTML object>"
            ]
          },
          "metadata": {
            "tags": []
          }
        }
      ]
    },
    {
      "cell_type": "markdown",
      "metadata": {
        "id": "MMBuHFS8LQEo"
      },
      "source": [
        "Looking at the tables we can see that the accuracy in general is low 25% and that the model with IMDB data is slightly more accurate. Also, the model with IMDB data takes half the time to run than the model with amazon data. \n",
        "\n"
      ]
    },
    {
      "cell_type": "markdown",
      "metadata": {
        "id": "ggFKwDpQaUEo"
      },
      "source": [
        "**Comparing Models**"
      ]
    },
    {
      "cell_type": "code",
      "metadata": {
        "id": "W-4b0Dwqap1g"
      },
      "source": [
        "n_words = 60"
      ],
      "execution_count": null,
      "outputs": []
    },
    {
      "cell_type": "code",
      "metadata": {
        "colab": {
          "base_uri": "https://localhost:8080/",
          "height": 122
        },
        "id": "RZ5wpcARWSyr",
        "outputId": "2959132c-87ec-4cfb-85e1-d93843779898"
      },
      "source": [
        "stem = \"The lord of the rings \"\n",
        "pred_amzn = amzn_learn.predict(stem, n_words, temperature=0.8)\n",
        "pred_imdb = imdb_learn.predict(stem, n_words, temperature=0.8)\n",
        "print(pred_amzn+\"\\n\")\n",
        "print(pred_imdb)"
      ],
      "execution_count": null,
      "outputs": [
        {
          "output_type": "display_data",
          "data": {
            "text/html": [
              ""
            ],
            "text/plain": [
              "<IPython.core.display.HTML object>"
            ]
          },
          "metadata": {
            "tags": []
          }
        },
        {
          "output_type": "display_data",
          "data": {
            "text/html": [
              ""
            ],
            "text/plain": [
              "<IPython.core.display.HTML object>"
            ]
          },
          "metadata": {
            "tags": []
          }
        },
        {
          "output_type": "stream",
          "text": [
            "The lord of the rings is an acceptable wood . i ca n't believe that it 's the drummer who is always caught in the center of the ring , but it is a real improvement . It is to be just as careful as the author with the corners and the ground itself . For Britain , it 's a great\n",
            "\n",
            "The lord of the rings , Lord of the Rings Trilogy ( 1979 ) , the director of the film is Henry Jackson . He can be seen as a good character , but it 's a small man , and he am a professional politician , who is provided by the cox Martin . \n",
            "\n",
            " This\n"
          ],
          "name": "stdout"
        }
      ]
    },
    {
      "cell_type": "code",
      "metadata": {
        "colab": {
          "base_uri": "https://localhost:8080/",
          "height": 88
        },
        "id": "YIvuo647adg3",
        "outputId": "48a21f7b-bd68-4e76-c1a2-bd9cf7f292df"
      },
      "source": [
        "stem = \" \"\n",
        "pred_amzn = amzn_learn.predict(stem, n_words, temperature=0.8)\n",
        "pred_imdb = imdb_learn.predict(stem, n_words, temperature=0.8)\n",
        "print(pred_amzn+\"\\n\")\n",
        "print(pred_imdb)"
      ],
      "execution_count": null,
      "outputs": [
        {
          "output_type": "display_data",
          "data": {
            "text/html": [
              ""
            ],
            "text/plain": [
              "<IPython.core.display.HTML object>"
            ]
          },
          "metadata": {
            "tags": []
          }
        },
        {
          "output_type": "display_data",
          "data": {
            "text/html": [
              ""
            ],
            "text/plain": [
              "<IPython.core.display.HTML object>"
            ]
          },
          "metadata": {
            "tags": []
          }
        },
        {
          "output_type": "stream",
          "text": [
            "Love this book . It is a shame it is based on the facts ( but if you want to know what it is . What i can say is that i am that the book about 70 's is not the best adaptation of Matthew Reilly 's story . Still , i am\n",
            "\n",
            "From this , i was surprised to see film - making . i like this film and i appreciated I 'm not wondering what I 'd saw in this film . i now 'd know that the screenplay was written by his friend , Richard Attenborough . The story is so different from those\n"
          ],
          "name": "stdout"
        }
      ]
    },
    {
      "cell_type": "markdown",
      "metadata": {
        "id": "NA5urWkDLNvf"
      },
      "source": [
        "We can appreciate that the model is very innacurate and that more data it is needed in order to have precise model. \n",
        "\n"
      ]
    }
  ]
}